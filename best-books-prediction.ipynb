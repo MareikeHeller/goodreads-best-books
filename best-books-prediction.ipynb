{
 "cells": [
  {
   "cell_type": "markdown",
   "metadata": {},
   "source": [
    "## Import Libraries"
   ]
  },
  {
   "cell_type": "code",
   "execution_count": 181,
   "metadata": {},
   "outputs": [],
   "source": [
    "from glob import glob\n",
    "from random import randrange\n",
    "import pandas as pd\n",
    "import numpy as np"
   ]
  },
  {
   "cell_type": "markdown",
   "metadata": {},
   "source": [
    "## Import Data"
   ]
  },
  {
   "cell_type": "code",
   "execution_count": 194,
   "metadata": {},
   "outputs": [],
   "source": [
    "#df = pd.read_csv('input_data/goodreads_books.csv') "
   ]
  },
  {
   "cell_type": "code",
   "execution_count": 202,
   "metadata": {},
   "outputs": [],
   "source": [
    "files = glob(\"input_data/goodreads_books_chunk_*.csv\")\n",
    "\n",
    "list_df = []\n",
    "\n",
    "for filename in files:\n",
    "    df = pd.read_csv(filename, index_col=None, header=0)\n",
    "    list_df.append(df)\n",
    "\n",
    "df = pd.concat(li, axis=0, ignore_index=True)"
   ]
  },
  {
   "cell_type": "code",
   "execution_count": 176,
   "metadata": {},
   "outputs": [
    {
     "data": {
      "text/html": [
       "<div>\n",
       "<style scoped>\n",
       "    .dataframe tbody tr th:only-of-type {\n",
       "        vertical-align: middle;\n",
       "    }\n",
       "\n",
       "    .dataframe tbody tr th {\n",
       "        vertical-align: top;\n",
       "    }\n",
       "\n",
       "    .dataframe thead th {\n",
       "        text-align: right;\n",
       "    }\n",
       "</style>\n",
       "<table border=\"1\" class=\"dataframe\">\n",
       "  <thead>\n",
       "    <tr style=\"text-align: right;\">\n",
       "      <th></th>\n",
       "      <th>id</th>\n",
       "      <th>title</th>\n",
       "      <th>link</th>\n",
       "      <th>series</th>\n",
       "      <th>cover_link</th>\n",
       "      <th>author</th>\n",
       "      <th>author_link</th>\n",
       "      <th>rating_count</th>\n",
       "      <th>review_count</th>\n",
       "      <th>average_rating</th>\n",
       "      <th>...</th>\n",
       "      <th>isbn13</th>\n",
       "      <th>asin</th>\n",
       "      <th>settings</th>\n",
       "      <th>characters</th>\n",
       "      <th>awards</th>\n",
       "      <th>amazon_redirect_link</th>\n",
       "      <th>worldcat_redirect_link</th>\n",
       "      <th>recommended_books</th>\n",
       "      <th>books_in_series</th>\n",
       "      <th>description</th>\n",
       "    </tr>\n",
       "  </thead>\n",
       "  <tbody>\n",
       "    <tr>\n",
       "      <th>0</th>\n",
       "      <td>630104</td>\n",
       "      <td>Inner Circle</td>\n",
       "      <td>https://www.goodreads.com//book/show/630104.In...</td>\n",
       "      <td>(Private #5)</td>\n",
       "      <td>https://i.gr-assets.com/images/S/compressed.ph...</td>\n",
       "      <td>Kate Brian, Julian Peploe</td>\n",
       "      <td>https://www.goodreads.com/author/show/94091.Ka...</td>\n",
       "      <td>7597</td>\n",
       "      <td>196</td>\n",
       "      <td>4.03</td>\n",
       "      <td>...</td>\n",
       "      <td>9781416950417</td>\n",
       "      <td>NaN</td>\n",
       "      <td>NaN</td>\n",
       "      <td>NaN</td>\n",
       "      <td>NaN</td>\n",
       "      <td>https://www.goodreads.com//book_link/follow/17...</td>\n",
       "      <td>https://www.goodreads.com//book_link/follow/8?...</td>\n",
       "      <td>726458, 726458, 1537534, 3047848, 1651302, 304...</td>\n",
       "      <td>381489, 381501, 352428, 630103, 1783281, 17832...</td>\n",
       "      <td>Reed Brennan arrived at Easton Academy expecti...</td>\n",
       "    </tr>\n",
       "    <tr>\n",
       "      <th>1</th>\n",
       "      <td>9487</td>\n",
       "      <td>A Time to Embrace</td>\n",
       "      <td>https://www.goodreads.com//book/show/9487.A_Ti...</td>\n",
       "      <td>(Timeless Love #2)</td>\n",
       "      <td>https://i.gr-assets.com/images/S/compressed.ph...</td>\n",
       "      <td>Karen Kingsbury</td>\n",
       "      <td>https://www.goodreads.com/author/show/3159984....</td>\n",
       "      <td>4179</td>\n",
       "      <td>177</td>\n",
       "      <td>4.35</td>\n",
       "      <td>...</td>\n",
       "      <td>9781595542328</td>\n",
       "      <td>NaN</td>\n",
       "      <td>NaN</td>\n",
       "      <td>NaN</td>\n",
       "      <td>NaN</td>\n",
       "      <td>https://www.goodreads.com//book_link/follow/17...</td>\n",
       "      <td>https://www.goodreads.com//book_link/follow/8?...</td>\n",
       "      <td>127352, 127352, 40642197, 127353, 127354, 3891...</td>\n",
       "      <td>115036</td>\n",
       "      <td>Ideje az Ã¶lelÃ©snek TÃ¶rtÃ©net a remÃ©nyrÅl,...</td>\n",
       "    </tr>\n",
       "    <tr>\n",
       "      <th>2</th>\n",
       "      <td>6050894</td>\n",
       "      <td>Take Two</td>\n",
       "      <td>https://www.goodreads.com//book/show/6050894-t...</td>\n",
       "      <td>(Above the Line #2)</td>\n",
       "      <td>https://i.gr-assets.com/images/S/compressed.ph...</td>\n",
       "      <td>Karen Kingsbury</td>\n",
       "      <td>https://www.goodreads.com/author/show/3159984....</td>\n",
       "      <td>6288</td>\n",
       "      <td>218</td>\n",
       "      <td>4.23</td>\n",
       "      <td>...</td>\n",
       "      <td>NaN</td>\n",
       "      <td>NaN</td>\n",
       "      <td>Bloomington, Indiana(United States)</td>\n",
       "      <td>NaN</td>\n",
       "      <td>NaN</td>\n",
       "      <td>https://www.goodreads.com//book_link/follow/17...</td>\n",
       "      <td>https://www.goodreads.com//book_link/follow/8?...</td>\n",
       "      <td>706250, 706250, 666481, 11942636, 706241, 1273...</td>\n",
       "      <td>4010795, 40792877, 7306261</td>\n",
       "      <td>Filmmakers Chase Ryan and Keith Ellison have c...</td>\n",
       "    </tr>\n",
       "    <tr>\n",
       "      <th>3</th>\n",
       "      <td>39030</td>\n",
       "      <td>Reliquary</td>\n",
       "      <td>https://www.goodreads.com//book/show/39030.Rel...</td>\n",
       "      <td>(Pendergast #2)</td>\n",
       "      <td>https://i.gr-assets.com/images/S/compressed.ph...</td>\n",
       "      <td>Douglas Preston, Lincoln Child</td>\n",
       "      <td>https://www.goodreads.com/author/show/12577.Do...</td>\n",
       "      <td>38382</td>\n",
       "      <td>1424</td>\n",
       "      <td>4.01</td>\n",
       "      <td>...</td>\n",
       "      <td>9780765354952</td>\n",
       "      <td>NaN</td>\n",
       "      <td>New York State(United States) New York City, N...</td>\n",
       "      <td>Aloysius X.L. Pendergast, Margo Green, William...</td>\n",
       "      <td>NaN</td>\n",
       "      <td>https://www.goodreads.com//book_link/follow/17...</td>\n",
       "      <td>https://www.goodreads.com//book_link/follow/8?...</td>\n",
       "      <td>39026, 39026, 11007668, 3986318, 51887330, 194...</td>\n",
       "      <td>67035, 39031, 39033, 136637, 136638, 30068, 39...</td>\n",
       "      <td>NaN</td>\n",
       "    </tr>\n",
       "    <tr>\n",
       "      <th>4</th>\n",
       "      <td>998</td>\n",
       "      <td>The Millionaire Next Door: The Surprising Secr...</td>\n",
       "      <td>https://www.goodreads.com//book/show/998.The_M...</td>\n",
       "      <td>NaN</td>\n",
       "      <td>https://i.gr-assets.com/images/S/compressed.ph...</td>\n",
       "      <td>Thomas J. Stanley, William D. Danko</td>\n",
       "      <td>https://www.goodreads.com/author/show/659.Thom...</td>\n",
       "      <td>72168</td>\n",
       "      <td>3217</td>\n",
       "      <td>4.04</td>\n",
       "      <td>...</td>\n",
       "      <td>9780671015206</td>\n",
       "      <td>NaN</td>\n",
       "      <td>NaN</td>\n",
       "      <td>NaN</td>\n",
       "      <td>Independent Publisher Book Award (IPPY) Nomine...</td>\n",
       "      <td>https://www.goodreads.com//book_link/follow/17...</td>\n",
       "      <td>https://www.goodreads.com//book_link/follow/8?...</td>\n",
       "      <td>1052, 1052, 763362, 69571, 78427, 30186948, 10...</td>\n",
       "      <td>NaN</td>\n",
       "      <td>The incredible national bestseller that is cha...</td>\n",
       "    </tr>\n",
       "  </tbody>\n",
       "</table>\n",
       "<p>5 rows × 31 columns</p>\n",
       "</div>"
      ],
      "text/plain": [
       "        id                                              title  \\\n",
       "0   630104                                       Inner Circle   \n",
       "1     9487                                  A Time to Embrace   \n",
       "2  6050894                                           Take Two   \n",
       "3    39030                                          Reliquary   \n",
       "4      998  The Millionaire Next Door: The Surprising Secr...   \n",
       "\n",
       "                                                link               series  \\\n",
       "0  https://www.goodreads.com//book/show/630104.In...         (Private #5)   \n",
       "1  https://www.goodreads.com//book/show/9487.A_Ti...   (Timeless Love #2)   \n",
       "2  https://www.goodreads.com//book/show/6050894-t...  (Above the Line #2)   \n",
       "3  https://www.goodreads.com//book/show/39030.Rel...      (Pendergast #2)   \n",
       "4  https://www.goodreads.com//book/show/998.The_M...                  NaN   \n",
       "\n",
       "                                          cover_link  \\\n",
       "0  https://i.gr-assets.com/images/S/compressed.ph...   \n",
       "1  https://i.gr-assets.com/images/S/compressed.ph...   \n",
       "2  https://i.gr-assets.com/images/S/compressed.ph...   \n",
       "3  https://i.gr-assets.com/images/S/compressed.ph...   \n",
       "4  https://i.gr-assets.com/images/S/compressed.ph...   \n",
       "\n",
       "                                author  \\\n",
       "0            Kate Brian, Julian Peploe   \n",
       "1                      Karen Kingsbury   \n",
       "2                      Karen Kingsbury   \n",
       "3       Douglas Preston, Lincoln Child   \n",
       "4  Thomas J. Stanley, William D. Danko   \n",
       "\n",
       "                                         author_link  rating_count  \\\n",
       "0  https://www.goodreads.com/author/show/94091.Ka...          7597   \n",
       "1  https://www.goodreads.com/author/show/3159984....          4179   \n",
       "2  https://www.goodreads.com/author/show/3159984....          6288   \n",
       "3  https://www.goodreads.com/author/show/12577.Do...         38382   \n",
       "4  https://www.goodreads.com/author/show/659.Thom...         72168   \n",
       "\n",
       "   review_count  average_rating  ...         isbn13  asin  \\\n",
       "0           196            4.03  ...  9781416950417   NaN   \n",
       "1           177            4.35  ...  9781595542328   NaN   \n",
       "2           218            4.23  ...            NaN   NaN   \n",
       "3          1424            4.01  ...  9780765354952   NaN   \n",
       "4          3217            4.04  ...  9780671015206   NaN   \n",
       "\n",
       "                                            settings  \\\n",
       "0                                                NaN   \n",
       "1                                                NaN   \n",
       "2                Bloomington, Indiana(United States)   \n",
       "3  New York State(United States) New York City, N...   \n",
       "4                                                NaN   \n",
       "\n",
       "                                          characters  \\\n",
       "0                                                NaN   \n",
       "1                                                NaN   \n",
       "2                                                NaN   \n",
       "3  Aloysius X.L. Pendergast, Margo Green, William...   \n",
       "4                                                NaN   \n",
       "\n",
       "                                              awards  \\\n",
       "0                                                NaN   \n",
       "1                                                NaN   \n",
       "2                                                NaN   \n",
       "3                                                NaN   \n",
       "4  Independent Publisher Book Award (IPPY) Nomine...   \n",
       "\n",
       "                                amazon_redirect_link  \\\n",
       "0  https://www.goodreads.com//book_link/follow/17...   \n",
       "1  https://www.goodreads.com//book_link/follow/17...   \n",
       "2  https://www.goodreads.com//book_link/follow/17...   \n",
       "3  https://www.goodreads.com//book_link/follow/17...   \n",
       "4  https://www.goodreads.com//book_link/follow/17...   \n",
       "\n",
       "                              worldcat_redirect_link  \\\n",
       "0  https://www.goodreads.com//book_link/follow/8?...   \n",
       "1  https://www.goodreads.com//book_link/follow/8?...   \n",
       "2  https://www.goodreads.com//book_link/follow/8?...   \n",
       "3  https://www.goodreads.com//book_link/follow/8?...   \n",
       "4  https://www.goodreads.com//book_link/follow/8?...   \n",
       "\n",
       "                                   recommended_books  \\\n",
       "0  726458, 726458, 1537534, 3047848, 1651302, 304...   \n",
       "1  127352, 127352, 40642197, 127353, 127354, 3891...   \n",
       "2  706250, 706250, 666481, 11942636, 706241, 1273...   \n",
       "3  39026, 39026, 11007668, 3986318, 51887330, 194...   \n",
       "4  1052, 1052, 763362, 69571, 78427, 30186948, 10...   \n",
       "\n",
       "                                     books_in_series  \\\n",
       "0  381489, 381501, 352428, 630103, 1783281, 17832...   \n",
       "1                                             115036   \n",
       "2                         4010795, 40792877, 7306261   \n",
       "3  67035, 39031, 39033, 136637, 136638, 30068, 39...   \n",
       "4                                                NaN   \n",
       "\n",
       "                                         description  \n",
       "0  Reed Brennan arrived at Easton Academy expecti...  \n",
       "1  Ideje az Ã¶lelÃ©snek TÃ¶rtÃ©net a remÃ©nyrÅl,...  \n",
       "2  Filmmakers Chase Ryan and Keith Ellison have c...  \n",
       "3                                                NaN  \n",
       "4  The incredible national bestseller that is cha...  \n",
       "\n",
       "[5 rows x 31 columns]"
      ]
     },
     "execution_count": 176,
     "metadata": {},
     "output_type": "execute_result"
    }
   ],
   "source": [
    "df.head()"
   ]
  },
  {
   "cell_type": "markdown",
   "metadata": {},
   "source": [
    "## Preprocessing"
   ]
  },
  {
   "cell_type": "markdown",
   "metadata": {},
   "source": [
    "### Step 1: \n",
    "Create new column **if book is part of a series (1) or not (0)**. By this, missing values are treated as a valuable information itself (0 = book is not part of a series). \n",
    "Assuming the column 'series' is reliably filled."
   ]
  },
  {
   "cell_type": "code",
   "execution_count": 195,
   "metadata": {},
   "outputs": [],
   "source": [
    "df.insert(4, 'is_part_of_series', df.series.notna().astype(int))"
   ]
  },
  {
   "cell_type": "markdown",
   "metadata": {},
   "source": [
    "### Step 2:\n",
    "Create new column **by how many authors the book was written**. To this end, comma-separated units are counted."
   ]
  },
  {
   "cell_type": "code",
   "execution_count": 196,
   "metadata": {},
   "outputs": [],
   "source": [
    "df.insert(7, 'number_of_authors', df.author.str.count(',')+1)"
   ]
  },
  {
   "cell_type": "markdown",
   "metadata": {},
   "source": [
    "### Step 3:\n",
    "Create new column **if book is an award winning book (1) or not (0).** By this, missing values are treated as a valuable information itself (0 = book is not award winning). Assuming the column 'awards' is reliably filled."
   ]
  },
  {
   "cell_type": "code",
   "execution_count": 197,
   "metadata": {},
   "outputs": [],
   "source": [
    "df.insert(28, 'is_award_winning', df.awards.notna().astype(int))"
   ]
  },
  {
   "cell_type": "markdown",
   "metadata": {},
   "source": [
    "### Step 4:\n",
    "Create new column for the **number of books in the series**. To this end, comma-separated units are counted.\n",
    "\n",
    "*Please note that the book at hand is not listed in the column 'books_in_series' (+2).*"
   ]
  },
  {
   "cell_type": "code",
   "execution_count": 198,
   "metadata": {},
   "outputs": [],
   "source": [
    "df.insert(32, 'number_of_books_in_series', df.books_in_series.str.count(',')+2) #note: the book at hand is not listed in 'books_in_series'"
   ]
  },
  {
   "cell_type": "markdown",
   "metadata": {},
   "source": [
    "### Step 5:\n",
    "Inspection of the column 'genre_and_votes' reveals the most voted genre to be listed in the first position."
   ]
  },
  {
   "cell_type": "code",
   "execution_count": 200,
   "metadata": {},
   "outputs": [
    {
     "name": "stdout",
     "output_type": "stream",
     "text": [
      "39317    Romance 26, Romance-Contemporary Romance 10, A...\n",
      "39318    Mystery 615, Historical-Historical Fiction 189...\n",
      "39319    Nonfiction 76, Short Stories 42, Cultural-Indi...\n",
      "39320    Romance-Paranormal Romance 55, Fantasy-Paranor...\n",
      "39321    Christian Fiction 46, Fiction 21, Christian 21...\n",
      "39322    Fantasy-Paranormal 8, Fantasy-Urban Fantasy 8,...\n",
      "39323    Mystery 38, Cultural-Russia 20, Fiction 17, Hi...\n",
      "39324    Science Fiction 74, Space-Space Opera 21, Fict...\n",
      "39325             Sociology 78, Religion 56, Philosophy 21\n",
      "39326    Fiction 39, Novels 10, Classics 10, Literature...\n",
      "Name: genre_and_votes, dtype: object\n",
      "Science Fiction 1user\n"
     ]
    }
   ],
   "source": [
    "#inspect a random sample (n=10)\n",
    "random_int = randrange(start=0, stop=df.shape[0]-10)\n",
    "print(df.genre_and_votes[random_int:random_int+10])"
   ]
  },
  {
   "cell_type": "markdown",
   "metadata": {},
   "source": [
    "Create two new columns for **the book's genre mix** and for **the book's main genre** according to readers' votes. To this end, the numerical votes are removed **(genre mix)** and the first comma-separated unit is extracted **(main genre)**."
   ]
  },
  {
   "cell_type": "code",
   "execution_count": 191,
   "metadata": {},
   "outputs": [
    {
     "ename": "ValueError",
     "evalue": "cannot insert genre_mix, already exists",
     "output_type": "error",
     "traceback": [
      "\u001b[1;31m---------------------------------------------------------------------------\u001b[0m",
      "\u001b[1;31mValueError\u001b[0m                                Traceback (most recent call last)",
      "\u001b[1;32m<ipython-input-191-76448fd5ed30>\u001b[0m in \u001b[0;36m<module>\u001b[1;34m\u001b[0m\n\u001b[1;32m----> 1\u001b[1;33m \u001b[0mdf\u001b[0m\u001b[1;33m.\u001b[0m\u001b[0minsert\u001b[0m\u001b[1;33m(\u001b[0m\u001b[1;36m22\u001b[0m\u001b[1;33m,\u001b[0m \u001b[1;34m'genre_mix'\u001b[0m\u001b[1;33m,\u001b[0m \u001b[0mdf\u001b[0m\u001b[1;33m.\u001b[0m\u001b[0mgenre_and_votes\u001b[0m\u001b[1;33m.\u001b[0m\u001b[0mreplace\u001b[0m\u001b[1;33m(\u001b[0m\u001b[0mto_replace\u001b[0m\u001b[1;33m=\u001b[0m\u001b[1;34m' [0-9]+'\u001b[0m\u001b[1;33m,\u001b[0m \u001b[0mvalue\u001b[0m\u001b[1;33m=\u001b[0m\u001b[1;34m''\u001b[0m\u001b[1;33m,\u001b[0m \u001b[0mregex\u001b[0m\u001b[1;33m=\u001b[0m\u001b[1;32mTrue\u001b[0m\u001b[1;33m)\u001b[0m\u001b[1;33m)\u001b[0m\u001b[1;33m\u001b[0m\u001b[1;33m\u001b[0m\u001b[0m\n\u001b[0m\u001b[0;32m      2\u001b[0m \u001b[0mdf\u001b[0m\u001b[1;33m.\u001b[0m\u001b[0minsert\u001b[0m\u001b[1;33m(\u001b[0m\u001b[1;36m23\u001b[0m\u001b[1;33m,\u001b[0m \u001b[1;34m'main_genre'\u001b[0m\u001b[1;33m,\u001b[0m \u001b[0mdf\u001b[0m\u001b[1;33m.\u001b[0m\u001b[0mgenre_mix\u001b[0m\u001b[1;33m.\u001b[0m\u001b[0mstr\u001b[0m\u001b[1;33m.\u001b[0m\u001b[0msplit\u001b[0m\u001b[1;33m(\u001b[0m\u001b[1;34m','\u001b[0m\u001b[1;33m)\u001b[0m\u001b[1;33m.\u001b[0m\u001b[0mstr\u001b[0m\u001b[1;33m[\u001b[0m\u001b[1;36m0\u001b[0m\u001b[1;33m]\u001b[0m\u001b[1;33m)\u001b[0m\u001b[1;33m\u001b[0m\u001b[1;33m\u001b[0m\u001b[0m\n",
      "\u001b[1;32m~\\anaconda3\\envs\\goodreads-best-books\\lib\\site-packages\\pandas\\core\\frame.py\u001b[0m in \u001b[0;36minsert\u001b[1;34m(self, loc, column, value, allow_duplicates)\u001b[0m\n\u001b[0;32m   3622\u001b[0m         \u001b[0mself\u001b[0m\u001b[1;33m.\u001b[0m\u001b[0m_ensure_valid_index\u001b[0m\u001b[1;33m(\u001b[0m\u001b[0mvalue\u001b[0m\u001b[1;33m)\u001b[0m\u001b[1;33m\u001b[0m\u001b[1;33m\u001b[0m\u001b[0m\n\u001b[0;32m   3623\u001b[0m         \u001b[0mvalue\u001b[0m \u001b[1;33m=\u001b[0m \u001b[0mself\u001b[0m\u001b[1;33m.\u001b[0m\u001b[0m_sanitize_column\u001b[0m\u001b[1;33m(\u001b[0m\u001b[0mcolumn\u001b[0m\u001b[1;33m,\u001b[0m \u001b[0mvalue\u001b[0m\u001b[1;33m,\u001b[0m \u001b[0mbroadcast\u001b[0m\u001b[1;33m=\u001b[0m\u001b[1;32mFalse\u001b[0m\u001b[1;33m)\u001b[0m\u001b[1;33m\u001b[0m\u001b[1;33m\u001b[0m\u001b[0m\n\u001b[1;32m-> 3624\u001b[1;33m         \u001b[0mself\u001b[0m\u001b[1;33m.\u001b[0m\u001b[0m_mgr\u001b[0m\u001b[1;33m.\u001b[0m\u001b[0minsert\u001b[0m\u001b[1;33m(\u001b[0m\u001b[0mloc\u001b[0m\u001b[1;33m,\u001b[0m \u001b[0mcolumn\u001b[0m\u001b[1;33m,\u001b[0m \u001b[0mvalue\u001b[0m\u001b[1;33m,\u001b[0m \u001b[0mallow_duplicates\u001b[0m\u001b[1;33m=\u001b[0m\u001b[0mallow_duplicates\u001b[0m\u001b[1;33m)\u001b[0m\u001b[1;33m\u001b[0m\u001b[1;33m\u001b[0m\u001b[0m\n\u001b[0m\u001b[0;32m   3625\u001b[0m \u001b[1;33m\u001b[0m\u001b[0m\n\u001b[0;32m   3626\u001b[0m     \u001b[1;32mdef\u001b[0m \u001b[0massign\u001b[0m\u001b[1;33m(\u001b[0m\u001b[0mself\u001b[0m\u001b[1;33m,\u001b[0m \u001b[1;33m**\u001b[0m\u001b[0mkwargs\u001b[0m\u001b[1;33m)\u001b[0m \u001b[1;33m->\u001b[0m \u001b[1;34m\"DataFrame\"\u001b[0m\u001b[1;33m:\u001b[0m\u001b[1;33m\u001b[0m\u001b[1;33m\u001b[0m\u001b[0m\n",
      "\u001b[1;32m~\\anaconda3\\envs\\goodreads-best-books\\lib\\site-packages\\pandas\\core\\internals\\managers.py\u001b[0m in \u001b[0;36minsert\u001b[1;34m(self, loc, item, value, allow_duplicates)\u001b[0m\n\u001b[0;32m   1175\u001b[0m         \u001b[1;32mif\u001b[0m \u001b[1;32mnot\u001b[0m \u001b[0mallow_duplicates\u001b[0m \u001b[1;32mand\u001b[0m \u001b[0mitem\u001b[0m \u001b[1;32min\u001b[0m \u001b[0mself\u001b[0m\u001b[1;33m.\u001b[0m\u001b[0mitems\u001b[0m\u001b[1;33m:\u001b[0m\u001b[1;33m\u001b[0m\u001b[1;33m\u001b[0m\u001b[0m\n\u001b[0;32m   1176\u001b[0m             \u001b[1;31m# Should this be a different kind of error??\u001b[0m\u001b[1;33m\u001b[0m\u001b[1;33m\u001b[0m\u001b[1;33m\u001b[0m\u001b[0m\n\u001b[1;32m-> 1177\u001b[1;33m             \u001b[1;32mraise\u001b[0m \u001b[0mValueError\u001b[0m\u001b[1;33m(\u001b[0m\u001b[1;34mf\"cannot insert {item}, already exists\"\u001b[0m\u001b[1;33m)\u001b[0m\u001b[1;33m\u001b[0m\u001b[1;33m\u001b[0m\u001b[0m\n\u001b[0m\u001b[0;32m   1178\u001b[0m \u001b[1;33m\u001b[0m\u001b[0m\n\u001b[0;32m   1179\u001b[0m         \u001b[1;32mif\u001b[0m \u001b[1;32mnot\u001b[0m \u001b[0misinstance\u001b[0m\u001b[1;33m(\u001b[0m\u001b[0mloc\u001b[0m\u001b[1;33m,\u001b[0m \u001b[0mint\u001b[0m\u001b[1;33m)\u001b[0m\u001b[1;33m:\u001b[0m\u001b[1;33m\u001b[0m\u001b[1;33m\u001b[0m\u001b[0m\n",
      "\u001b[1;31mValueError\u001b[0m: cannot insert genre_mix, already exists"
     ]
    }
   ],
   "source": [
    "df.insert(22, 'genre_mix', df.genre_and_votes.replace(to_replace=' [0-9]+', value='', regex=True))\n",
    "df.insert(23, 'main_genre', df.genre_mix.str.split(',').str[0])"
   ]
  },
  {
   "cell_type": "markdown",
   "metadata": {},
   "source": [
    "## Data Analysis"
   ]
  },
  {
   "cell_type": "code",
   "execution_count": 192,
   "metadata": {},
   "outputs": [
    {
     "name": "stdout",
     "output_type": "stream",
     "text": [
      "The preprocessed dataset contains 52199 rows and 37 columns.\n"
     ]
    }
   ],
   "source": [
    "print('The preprocessed dataset contains {} rows and {} columns.'.format(df.shape[0],df.shape[1]))"
   ]
  },
  {
   "cell_type": "code",
   "execution_count": 193,
   "metadata": {},
   "outputs": [
    {
     "name": "stdout",
     "output_type": "stream",
     "text": [
      "Overview of all numerical columns in the dataset:\n"
     ]
    },
    {
     "data": {
      "text/html": [
       "<div>\n",
       "<style scoped>\n",
       "    .dataframe tbody tr th:only-of-type {\n",
       "        vertical-align: middle;\n",
       "    }\n",
       "\n",
       "    .dataframe tbody tr th {\n",
       "        vertical-align: top;\n",
       "    }\n",
       "\n",
       "    .dataframe thead th {\n",
       "        text-align: right;\n",
       "    }\n",
       "</style>\n",
       "<table border=\"1\" class=\"dataframe\">\n",
       "  <thead>\n",
       "    <tr style=\"text-align: right;\">\n",
       "      <th></th>\n",
       "      <th>id</th>\n",
       "      <th>is_part_of_series</th>\n",
       "      <th>number_of_authors</th>\n",
       "      <th>rating_count</th>\n",
       "      <th>review_count</th>\n",
       "      <th>average_rating</th>\n",
       "      <th>five_star_ratings</th>\n",
       "      <th>four_star_ratings</th>\n",
       "      <th>three_star_ratings</th>\n",
       "      <th>two_star_ratings</th>\n",
       "      <th>one_star_ratings</th>\n",
       "      <th>number_of_pages</th>\n",
       "      <th>is_award_winning</th>\n",
       "      <th>number_of_books_in_series</th>\n",
       "    </tr>\n",
       "  </thead>\n",
       "  <tbody>\n",
       "    <tr>\n",
       "      <th>count</th>\n",
       "      <td>5.219900e+04</td>\n",
       "      <td>52199.000000</td>\n",
       "      <td>52199.000000</td>\n",
       "      <td>5.219900e+04</td>\n",
       "      <td>52199.000000</td>\n",
       "      <td>52199.000000</td>\n",
       "      <td>5.219900e+04</td>\n",
       "      <td>5.219900e+04</td>\n",
       "      <td>52199.000000</td>\n",
       "      <td>52199.000000</td>\n",
       "      <td>52199.000000</td>\n",
       "      <td>49869.000000</td>\n",
       "      <td>52199.000000</td>\n",
       "      <td>22078.000000</td>\n",
       "    </tr>\n",
       "    <tr>\n",
       "      <th>mean</th>\n",
       "      <td>1.015443e+07</td>\n",
       "      <td>0.446733</td>\n",
       "      <td>1.342957</td>\n",
       "      <td>1.887361e+04</td>\n",
       "      <td>1012.980881</td>\n",
       "      <td>4.020610</td>\n",
       "      <td>7.817176e+03</td>\n",
       "      <td>6.250785e+03</td>\n",
       "      <td>3456.512424</td>\n",
       "      <td>935.496600</td>\n",
       "      <td>413.640051</td>\n",
       "      <td>328.942730</td>\n",
       "      <td>0.203567</td>\n",
       "      <td>6.082933</td>\n",
       "    </tr>\n",
       "    <tr>\n",
       "      <th>std</th>\n",
       "      <td>1.164443e+07</td>\n",
       "      <td>0.497159</td>\n",
       "      <td>1.409807</td>\n",
       "      <td>1.163978e+05</td>\n",
       "      <td>4054.802421</td>\n",
       "      <td>0.367161</td>\n",
       "      <td>5.876373e+04</td>\n",
       "      <td>3.473533e+04</td>\n",
       "      <td>18249.298631</td>\n",
       "      <td>5890.077215</td>\n",
       "      <td>3843.356500</td>\n",
       "      <td>252.790119</td>\n",
       "      <td>0.402655</td>\n",
       "      <td>3.338582</td>\n",
       "    </tr>\n",
       "    <tr>\n",
       "      <th>min</th>\n",
       "      <td>1.000000e+00</td>\n",
       "      <td>0.000000</td>\n",
       "      <td>1.000000</td>\n",
       "      <td>0.000000e+00</td>\n",
       "      <td>0.000000</td>\n",
       "      <td>0.000000</td>\n",
       "      <td>0.000000e+00</td>\n",
       "      <td>0.000000e+00</td>\n",
       "      <td>0.000000</td>\n",
       "      <td>0.000000</td>\n",
       "      <td>0.000000</td>\n",
       "      <td>0.000000</td>\n",
       "      <td>0.000000</td>\n",
       "      <td>2.000000</td>\n",
       "    </tr>\n",
       "    <tr>\n",
       "      <th>25%</th>\n",
       "      <td>3.628190e+05</td>\n",
       "      <td>0.000000</td>\n",
       "      <td>1.000000</td>\n",
       "      <td>3.400000e+02</td>\n",
       "      <td>31.000000</td>\n",
       "      <td>3.820000</td>\n",
       "      <td>1.170000e+02</td>\n",
       "      <td>1.090000e+02</td>\n",
       "      <td>63.000000</td>\n",
       "      <td>15.000000</td>\n",
       "      <td>6.000000</td>\n",
       "      <td>210.000000</td>\n",
       "      <td>0.000000</td>\n",
       "      <td>3.000000</td>\n",
       "    </tr>\n",
       "    <tr>\n",
       "      <th>50%</th>\n",
       "      <td>6.383537e+06</td>\n",
       "      <td>0.000000</td>\n",
       "      <td>1.000000</td>\n",
       "      <td>2.295000e+03</td>\n",
       "      <td>163.000000</td>\n",
       "      <td>4.030000</td>\n",
       "      <td>8.100000e+02</td>\n",
       "      <td>7.650000e+02</td>\n",
       "      <td>452.000000</td>\n",
       "      <td>107.000000</td>\n",
       "      <td>36.000000</td>\n",
       "      <td>304.000000</td>\n",
       "      <td>0.000000</td>\n",
       "      <td>5.000000</td>\n",
       "    </tr>\n",
       "    <tr>\n",
       "      <th>75%</th>\n",
       "      <td>1.738060e+07</td>\n",
       "      <td>1.000000</td>\n",
       "      <td>1.000000</td>\n",
       "      <td>9.297500e+03</td>\n",
       "      <td>622.000000</td>\n",
       "      <td>4.230000</td>\n",
       "      <td>3.375500e+03</td>\n",
       "      <td>3.190500e+03</td>\n",
       "      <td>1866.000000</td>\n",
       "      <td>450.000000</td>\n",
       "      <td>151.000000</td>\n",
       "      <td>392.000000</td>\n",
       "      <td>0.000000</td>\n",
       "      <td>10.000000</td>\n",
       "    </tr>\n",
       "    <tr>\n",
       "      <th>max</th>\n",
       "      <td>5.444299e+07</td>\n",
       "      <td>1.000000</td>\n",
       "      <td>52.000000</td>\n",
       "      <td>6.801077e+06</td>\n",
       "      <td>169511.000000</td>\n",
       "      <td>5.000000</td>\n",
       "      <td>4.414877e+06</td>\n",
       "      <td>1.868421e+06</td>\n",
       "      <td>980183.000000</td>\n",
       "      <td>529060.000000</td>\n",
       "      <td>537793.000000</td>\n",
       "      <td>14777.000000</td>\n",
       "      <td>1.000000</td>\n",
       "      <td>11.000000</td>\n",
       "    </tr>\n",
       "  </tbody>\n",
       "</table>\n",
       "</div>"
      ],
      "text/plain": [
       "                 id  is_part_of_series  number_of_authors  rating_count  \\\n",
       "count  5.219900e+04       52199.000000       52199.000000  5.219900e+04   \n",
       "mean   1.015443e+07           0.446733           1.342957  1.887361e+04   \n",
       "std    1.164443e+07           0.497159           1.409807  1.163978e+05   \n",
       "min    1.000000e+00           0.000000           1.000000  0.000000e+00   \n",
       "25%    3.628190e+05           0.000000           1.000000  3.400000e+02   \n",
       "50%    6.383537e+06           0.000000           1.000000  2.295000e+03   \n",
       "75%    1.738060e+07           1.000000           1.000000  9.297500e+03   \n",
       "max    5.444299e+07           1.000000          52.000000  6.801077e+06   \n",
       "\n",
       "        review_count  average_rating  five_star_ratings  four_star_ratings  \\\n",
       "count   52199.000000    52199.000000       5.219900e+04       5.219900e+04   \n",
       "mean     1012.980881        4.020610       7.817176e+03       6.250785e+03   \n",
       "std      4054.802421        0.367161       5.876373e+04       3.473533e+04   \n",
       "min         0.000000        0.000000       0.000000e+00       0.000000e+00   \n",
       "25%        31.000000        3.820000       1.170000e+02       1.090000e+02   \n",
       "50%       163.000000        4.030000       8.100000e+02       7.650000e+02   \n",
       "75%       622.000000        4.230000       3.375500e+03       3.190500e+03   \n",
       "max    169511.000000        5.000000       4.414877e+06       1.868421e+06   \n",
       "\n",
       "       three_star_ratings  two_star_ratings  one_star_ratings  \\\n",
       "count        52199.000000      52199.000000      52199.000000   \n",
       "mean          3456.512424        935.496600        413.640051   \n",
       "std          18249.298631       5890.077215       3843.356500   \n",
       "min              0.000000          0.000000          0.000000   \n",
       "25%             63.000000         15.000000          6.000000   \n",
       "50%            452.000000        107.000000         36.000000   \n",
       "75%           1866.000000        450.000000        151.000000   \n",
       "max         980183.000000     529060.000000     537793.000000   \n",
       "\n",
       "       number_of_pages  is_award_winning  number_of_books_in_series  \n",
       "count     49869.000000      52199.000000               22078.000000  \n",
       "mean        328.942730          0.203567                   6.082933  \n",
       "std         252.790119          0.402655                   3.338582  \n",
       "min           0.000000          0.000000                   2.000000  \n",
       "25%         210.000000          0.000000                   3.000000  \n",
       "50%         304.000000          0.000000                   5.000000  \n",
       "75%         392.000000          0.000000                  10.000000  \n",
       "max       14777.000000          1.000000                  11.000000  "
      ]
     },
     "execution_count": 193,
     "metadata": {},
     "output_type": "execute_result"
    }
   ],
   "source": [
    "print('Overview of all numerical columns in the dataset:')\n",
    "df.describe()"
   ]
  },
  {
   "cell_type": "markdown",
   "metadata": {},
   "source": [
    "### Overview of Missing Values"
   ]
  },
  {
   "cell_type": "code",
   "execution_count": 169,
   "metadata": {},
   "outputs": [],
   "source": [
    "cols_wo_missing_vals = list(df.columns[df.isnull().sum()/df.shape[0] == 0])\n",
    "cols_w_missing_vals = list(df.columns[df.isnull().sum()/df.shape[0] > 0])"
   ]
  },
  {
   "cell_type": "code",
   "execution_count": 170,
   "metadata": {},
   "outputs": [
    {
     "name": "stdout",
     "output_type": "stream",
     "text": [
      "List of columns without missing values: ['id', 'title', 'link', 'author', 'author_link', 'number_of_authors', 'rating_count', 'review_count', 'average_rating', 'five_star_ratings', 'four_star_ratings', 'three_star_ratings', 'two_star_ratings', 'one_star_ratings', 'amazon_redirect_link', 'is_award_winning']\n"
     ]
    }
   ],
   "source": [
    "print('List of columns without missing values: {}'.format(cols_wo_missing_vals))"
   ]
  },
  {
   "cell_type": "code",
   "execution_count": 171,
   "metadata": {},
   "outputs": [
    {
     "name": "stdout",
     "output_type": "stream",
     "text": [
      "asin                         0.899692\n",
      "awards                       0.796433\n",
      "settings                     0.779402\n",
      "characters                   0.737639\n",
      "books_in_series              0.577042\n",
      "number_of_books_in_series    0.577042\n",
      "series                       0.553267\n",
      "original_title               0.248070\n",
      "isbn13                       0.243146\n",
      "isbn                         0.227648\n",
      "recommended_books            0.076515\n",
      "worldcat_redirect_link       0.076342\n",
      "publisher                    0.069657\n",
      "main_genre                   0.054407\n",
      "genre_and_votes              0.054407\n",
      "genre_mix                    0.054407\n",
      "description                  0.049330\n",
      "number_of_pages              0.044637\n",
      "date_published               0.016475\n",
      "cover_link                   0.011629\n",
      "dtype: float64\n"
     ]
    }
   ],
   "source": [
    "cols_missing_vals_share = df[cols_w_missing_vals].isnull().sum()/df.shape[0]\n",
    "print(cols_missing_vals_share.sort_values(ascending = False))"
   ]
  }
 ],
 "metadata": {
  "kernelspec": {
   "display_name": "Python [conda env:goodreads-best-books] *",
   "language": "python",
   "name": "conda-env-goodreads-best-books-py"
  },
  "language_info": {
   "codemirror_mode": {
    "name": "ipython",
    "version": 3
   },
   "file_extension": ".py",
   "mimetype": "text/x-python",
   "name": "python",
   "nbconvert_exporter": "python",
   "pygments_lexer": "ipython3",
   "version": "3.7.9"
  }
 },
 "nbformat": 4,
 "nbformat_minor": 4
}
